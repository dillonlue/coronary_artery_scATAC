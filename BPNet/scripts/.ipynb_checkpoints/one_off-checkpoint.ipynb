{
 "cells": [
  {
   "cell_type": "code",
   "execution_count": 55,
   "metadata": {},
   "outputs": [],
   "source": [
    "import pandas as pd"
   ]
  },
  {
   "cell_type": "code",
   "execution_count": 63,
   "metadata": {},
   "outputs": [],
   "source": [
    "peak_df = pd.read_csv(\"/project/cphg-millerlab/CAD_QTL/coronary_QTL/epigenome/scATAC/celltype_peaks_macs2/Endothelial_m2PE_peaks.narrowPeak\", sep='\\t',\n",
    "                     header=None)"
   ]
  },
  {
   "cell_type": "code",
   "execution_count": 64,
   "metadata": {},
   "outputs": [],
   "source": [
    "summit_point = peak_df[1] + peak_df[9]\n",
    "peak_df[1] = summit_point - 500\n",
    "peak_df[2] = summit_point + 500\n",
    "peak_df[9] = 500"
   ]
  },
  {
   "cell_type": "code",
   "execution_count": 65,
   "metadata": {},
   "outputs": [],
   "source": [
    "peak_df.to_csv(\"/scratch/dyl3pc/BPNet/output/pos_regions/Endothelial.bed\", sep='\\t', index=False, header=False)"
   ]
  },
  {
   "cell_type": "code",
   "execution_count": 66,
   "metadata": {},
   "outputs": [
    {
     "data": {
      "text/plain": [
       "0"
      ]
     },
     "execution_count": 66,
     "metadata": {},
     "output_type": "execute_result"
    }
   ],
   "source": [
    "chr_sizes_dict = pd.read_csv(\"/project/cphg-millerlab/CAD_QTL/coronary_QTL/epigenome/scATAC/celltype_fragments_ArchR/chrom_hg38.sizes\", sep='\\t', header=None,index_col=0).to_dict()[1]\n",
    "def is_valid(row):\n",
    "    if row[2] > chr_sizes_dict[row[0]]:\n",
    "        return True\n",
    "    if row[1] < 0:\n",
    "        return True\n",
    "    return False\n",
    "sum(peak_df.apply(is_valid, axis=1))"
   ]
  },
  {
   "cell_type": "code",
   "execution_count": 72,
   "metadata": {},
   "outputs": [],
   "source": [
    "peak_df[[0,1,2]].to_csv(\"/scratch/dyl3pc/BPNet/output/input_null_regions/Endothelial.bed\", sep='\\t', index=False, header=False)"
   ]
  },
  {
   "cell_type": "code",
   "execution_count": 70,
   "metadata": {},
   "outputs": [],
   "source": [
    "peak_df.to_csv(\"/scratch/dyl3pc/BPNet/output/input_null_regions/Endothelial.bed\", sep='\\t', index=False, header=False)"
   ]
  },
  {
   "cell_type": "code",
   "execution_count": null,
   "metadata": {},
   "outputs": [],
   "source": []
  }
 ],
 "metadata": {
  "kernelspec": {
   "display_name": "RNA_seq",
   "language": "python",
   "name": "rna_seq"
  },
  "language_info": {
   "codemirror_mode": {
    "name": "ipython",
    "version": 3
   },
   "file_extension": ".py",
   "mimetype": "text/x-python",
   "name": "python",
   "nbconvert_exporter": "python",
   "pygments_lexer": "ipython3",
   "version": "3.9.0"
  }
 },
 "nbformat": 4,
 "nbformat_minor": 4
}
