{
 "cells": [
  {
   "cell_type": "code",
   "execution_count": 2,
   "metadata": {},
   "outputs": [],
   "source": [
    "import pandas as pd"
   ]
  },
  {
   "cell_type": "code",
   "execution_count": 4,
   "metadata": {},
   "outputs": [],
   "source": [
    "original_snps = pd.read_csv(\"/project/cphg-millerlab/CAD_QTL/coronary_QTL/epigenome/scATAC/gkm_svm/CAD_GWAS_sigSNPs_Feb_2021.txt\",\n",
    "                            sep='\\t', names=['chr', 'start', 'end', 'rsid', 'ref', 'alt', '1', '2'])"
   ]
  },
  {
   "cell_type": "code",
   "execution_count": 8,
   "metadata": {},
   "outputs": [],
   "source": [
    "original_snps[['chr', 'start', 'rsid', 'ref', 'alt']].to_csv('/scratch/dyl3pc/BPNet/external_resources/CAD.tsv',\n",
    "                                                             sep='\\t', header=None, index=None)"
   ]
  },
  {
   "cell_type": "code",
   "execution_count": null,
   "metadata": {},
   "outputs": [],
   "source": []
  }
 ],
 "metadata": {
  "kernelspec": {
   "display_name": "RNA_seq",
   "language": "python",
   "name": "rna_seq"
  },
  "language_info": {
   "codemirror_mode": {
    "name": "ipython",
    "version": 3
   },
   "file_extension": ".py",
   "mimetype": "text/x-python",
   "name": "python",
   "nbconvert_exporter": "python",
   "pygments_lexer": "ipython3",
   "version": "3.9.0"
  }
 },
 "nbformat": 4,
 "nbformat_minor": 4
}
